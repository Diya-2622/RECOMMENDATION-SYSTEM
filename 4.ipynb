import pandas as pd
import numpy as np
from sklearn.model_selection import train_test_split
from sklearn.metrics.pairwise import cosine_similarity
from sklearn.metrics import mean_squared_error

# Load dataset (extended example with more users and items)
data = {
    'user_id': [1, 1, 1, 1, 2, 2, 2, 3, 3, 3, 3, 4, 4, 4, 5, 5, 5, 5, 6, 6, 6],
    'item_id': [101, 102, 103, 104, 101, 104, 105, 102, 103, 104, 105, 101, 103, 105, 102, 103, 104, 105, 101, 103, 105],
    'rating': [5, 3, 4, 2, 4, 5, 3, 2, 4, 3, 5, 5, 3, 4, 4, 5, 3, 2, 4, 5, 3]
}
df = pd.DataFrame(data)

# Create user-item matrix
user_item_matrix = df.pivot(index='user_id', columns='item_id', values='rating').fillna(0).to_numpy()

# Compute cosine similarity between users
user_similarity = cosine_similarity(user_item_matrix)

# Function to predict ratings
def predict_ratings(user_similarity, user_item_matrix):
    mean_user_rating = user_item_matrix.mean(axis=1)
    ratings_diff = user_item_matrix - mean_user_rating[:, np.newaxis]
    pred = mean_user_rating[:, np.newaxis] + user_similarity.dot(ratings_diff) / np.array([np.abs(user_similarity).sum(axis=1)]).T
    return pred

predicted_ratings = predict_ratings(user_similarity, user_item_matrix)

# Example: Predict multiple ratings for different users and items
examples = [(1, 104), (2, 105), (3, 101), (4, 102), (5, 103), (6, 104)]
for user_id, item_id in examples:
    user_idx = np.where(np.array(df.user_id.unique()) == user_id)[0][0]
    item_idx = np.where(np.array(df.item_id.unique()) == item_id)[0][0]
    predicted_rating = predicted_ratings[user_idx, item_idx]
    print(f'Predicted rating for User {user_id} and Item {item_id}: {predicted_rating}')
